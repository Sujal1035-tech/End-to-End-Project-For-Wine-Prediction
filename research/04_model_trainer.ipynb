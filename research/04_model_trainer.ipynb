{
 "cells": [
  {
   "cell_type": "code",
   "execution_count": 67,
   "metadata": {},
   "outputs": [
    {
     "data": {
      "text/plain": [
       "'e:\\\\'"
      ]
     },
     "execution_count": 67,
     "metadata": {},
     "output_type": "execute_result"
    }
   ],
   "source": [
    "import os\n",
    "%pwd"
   ]
  },
  {
   "cell_type": "code",
   "execution_count": 68,
   "metadata": {},
   "outputs": [],
   "source": [
    "os.chdir(\"e:/End to End Wine Quality Prediction/\")  # Replace with your actual previous path\n"
   ]
  },
  {
   "cell_type": "code",
   "execution_count": 69,
   "metadata": {},
   "outputs": [
    {
     "data": {
      "text/plain": [
       "'e:\\\\End to End Wine Quality Prediction'"
      ]
     },
     "execution_count": 69,
     "metadata": {},
     "output_type": "execute_result"
    }
   ],
   "source": [
    "%pwd"
   ]
  },
  {
   "cell_type": "code",
   "execution_count": 76,
   "metadata": {},
   "outputs": [],
   "source": [
    "from dataclasses import dataclass\n",
    "from pathlib import Path\n",
    "\n",
    "@dataclass(frozen=True)\n",
    "class ModelTrainerConfig:\n",
    "    root_dir: Path\n",
    "    train_data_path: Path\n",
    "    test_data_path: Path\n",
    "    model_name: str\n",
    "    random_state: int\n",
    "    n_estimators: int\n",
    "    min_samples_split: int\n",
    "    min_samples_leaf: int\n",
    "    max_features: str\n",
    "    max_depth: int\n",
    "    bootstrap: bool\n",
    "    target_column: str\n"
   ]
  },
  {
   "cell_type": "code",
   "execution_count": 77,
   "metadata": {},
   "outputs": [],
   "source": [
    "\n",
    "from mlProject.constants import *\n",
    "from mlProject.utils.common import read_yaml, create_directories"
   ]
  },
  {
   "cell_type": "code",
   "execution_count": 79,
   "metadata": {},
   "outputs": [],
   "source": [
    "class ConfigurationManager:\n",
    "    def __init__(\n",
    "        self,\n",
    "        config_filepath = CONFIG_FILE_PATH,\n",
    "        params_filepath = PARAMS_FILE_PATH,\n",
    "        schema_filepath = SCHEMA_FILE_PATH):\n",
    "\n",
    "        self.config = read_yaml(config_filepath)\n",
    "        self.params = read_yaml(params_filepath)\n",
    "        self.schema = read_yaml(schema_filepath)\n",
    "\n",
    "        create_directories([self.config.artifacts_root])\n",
    "\n",
    "\n",
    "    def get_model_trainer_config(self) -> ModelTrainerConfig:\n",
    "     config = self.config.model_trainer\n",
    "     model_params = self.params.best_hyperparameters\n",
    "     model_name_config = self.params.model_name\n",
    "     target_column_name = self.schema.TARGET_COLUMN.name\n",
    "\n",
    "     create_directories([config.root_dir])\n",
    "\n",
    "     model_trainer_config = ModelTrainerConfig(\n",
    "        root_dir=config.root_dir,\n",
    "        train_data_path=config.train_data_path,\n",
    "        test_data_path=config.test_data_path,\n",
    "        model_name=model_name_config.name,  # \"RandomForestRegressor\"\n",
    "        random_state=model_name_config.random_state,  # 42\n",
    "        n_estimators=model_params.n_estimators,  # 400\n",
    "        min_samples_split=model_params.min_samples_split,  # 10\n",
    "        min_samples_leaf=model_params.min_samples_leaf,  # 2\n",
    "        max_features=model_params.max_features,  # \"log2\"\n",
    "        max_depth=model_params.max_depth,  # 30\n",
    "        bootstrap=model_params.bootstrap,  # True\n",
    "        target_column=target_column_name\n",
    "    )\n",
    "\n",
    "     return model_trainer_config\n",
    "\n",
    "\n"
   ]
  },
  {
   "cell_type": "code",
   "execution_count": 80,
   "metadata": {},
   "outputs": [],
   "source": [
    "import pandas as pd\n"
   ]
  },
  {
   "cell_type": "code",
   "execution_count": 81,
   "metadata": {},
   "outputs": [],
   "source": [
    "import os\n",
    "import joblib\n",
    "import pandas as pd\n",
    "from sklearn.ensemble import RandomForestRegressor\n",
    "\n",
    "class ModelTrainer:\n",
    "    def __init__(self, config: ModelTrainerConfig):\n",
    "        self.config = config\n",
    "\n",
    "    def train(self):\n",
    "        #print(\"🟢 Starting model training...\")  # Debugging step\n",
    "\n",
    "        # Load training & testing data\n",
    "        train_data = pd.read_csv(self.config.train_data_path)\n",
    "        test_data = pd.read_csv(self.config.test_data_path)\n",
    "        #print(\"✅ Data loaded successfully!\")\n",
    "\n",
    "        # Prepare input and target variables\n",
    "        train_x = train_data.drop([self.config.target_column], axis=1)\n",
    "        test_x = test_data.drop([self.config.target_column], axis=1)\n",
    "        train_y = train_data[[self.config.target_column]]\n",
    "        test_y = test_data[[self.config.target_column]]\n",
    "        #print(\"✅ Data preprocessing completed!\")\n",
    "\n",
    "        # Initialize and train the RandomForest model\n",
    "        rf = RandomForestRegressor(\n",
    "            n_estimators=self.config.n_estimators,\n",
    "            min_samples_split=self.config.min_samples_split,\n",
    "            min_samples_leaf=self.config.min_samples_leaf,\n",
    "            max_features=self.config.max_features,\n",
    "            max_depth=self.config.max_depth,\n",
    "            bootstrap=self.config.bootstrap,\n",
    "            random_state=self.config.random_state\n",
    "        )\n",
    "\n",
    "        #print(\"🚀 Training model...\")\n",
    "        rf.fit(train_x, train_y.values.ravel())  # Flatten y for sklearn\n",
    "        #print(\"✅ Model training completed!\")\n",
    "\n",
    "        # Ensure the directory exists before saving\n",
    "        os.makedirs(self.config.root_dir, exist_ok=True)\n",
    "\n",
    "        # Define model path\n",
    "        model_path = os.path.join(self.config.root_dir, self.config.model_name + \".joblib\")\n",
    "        #print(f\"💾 Saving model at: {model_path}\")\n",
    "\n",
    "        # Save the trained model\n",
    "        joblib.dump(rf, model_path)\n",
    "\n",
    "        \n",
    "\n",
    "  "
   ]
  },
  {
   "cell_type": "code",
   "execution_count": 82,
   "metadata": {},
   "outputs": [
    {
     "name": "stdout",
     "output_type": "stream",
     "text": [
      "[2025-03-27 23:39:01,809: INFO: common: yaml file: config\\config.yaml loaded successfully]\n",
      "[2025-03-27 23:39:01,821: INFO: common: yaml file: params.yaml loaded successfully]\n",
      "[2025-03-27 23:39:01,834: INFO: common: yaml file: schema.yaml loaded successfully]\n",
      "[2025-03-27 23:39:01,839: INFO: common: created directory at: artifacts]\n",
      "[2025-03-27 23:39:01,845: INFO: common: created directory at: artifacts/model_trainer]\n"
     ]
    }
   ],
   "source": [
    "# ✅ Pipeline Execution\n",
    "\n",
    "try:\n",
    "        config = ConfigurationManager()\n",
    "        model_trainer_config = config.get_model_trainer_config()\n",
    "        model_trainer = ModelTrainer(config=model_trainer_config)    \n",
    "        model_trainer.train()\n",
    "except Exception as e:\n",
    "        raise e"
   ]
  },
  {
   "cell_type": "code",
   "execution_count": null,
   "metadata": {},
   "outputs": [],
   "source": []
  },
  {
   "cell_type": "code",
   "execution_count": null,
   "metadata": {},
   "outputs": [],
   "source": []
  }
 ],
 "metadata": {
  "kernelspec": {
   "display_name": "wine",
   "language": "python",
   "name": "python3"
  },
  "language_info": {
   "codemirror_mode": {
    "name": "ipython",
    "version": 3
   },
   "file_extension": ".py",
   "mimetype": "text/x-python",
   "name": "python",
   "nbconvert_exporter": "python",
   "pygments_lexer": "ipython3",
   "version": "3.10.16"
  }
 },
 "nbformat": 4,
 "nbformat_minor": 2
}
